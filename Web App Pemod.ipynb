{
  "nbformat": 4,
  "nbformat_minor": 0,
  "metadata": {
    "colab": {
      "name": "Web App Pemod.ipynb",
      "provenance": [],
      "collapsed_sections": [],
      "authorship_tag": "ABX9TyNRbOeOlxXM0PRj3Fjio+n9",
      "include_colab_link": true
    },
    "kernelspec": {
      "name": "python3",
      "display_name": "Python 3"
    },
    "language_info": {
      "name": "python"
    }
  },
  "cells": [
    {
      "cell_type": "markdown",
      "metadata": {
        "id": "view-in-github",
        "colab_type": "text"
      },
      "source": [
        "<a href=\"https://colab.research.google.com/github/ragunggg/routing/blob/main/Web%20App%20Pemod.ipynb\" target=\"_parent\"><img src=\"https://colab.research.google.com/assets/colab-badge.svg\" alt=\"Open In Colab\"/></a>"
      ]
    },
    {
      "cell_type": "markdown",
      "metadata": {
        "id": "Ad403RXJ4e4s"
      },
      "source": [
        "# Package"
      ]
    },
    {
      "cell_type": "code",
      "metadata": {
        "id": "uxJf89Uy9769",
        "colab": {
          "base_uri": "https://localhost:8080/",
          "height": 1000
        },
        "outputId": "3fe681e7-35c0-443f-9b9c-3d32abac0a5c"
      },
      "source": [
        "!pip install flask-ngrok\n",
        "!pip install cache-magic\n",
        "!pip install osmnx\n",
        "!pip install matplotlib==3.1.3"
      ],
      "execution_count": null,
      "outputs": [
        {
          "output_type": "stream",
          "text": [
            "Collecting flask-ngrok\n",
            "  Downloading https://files.pythonhosted.org/packages/af/6c/f54cb686ad1129e27d125d182f90f52b32f284e6c8df58c1bae54fa1adbc/flask_ngrok-0.0.25-py3-none-any.whl\n",
            "Requirement already satisfied: requests in /usr/local/lib/python3.7/dist-packages (from flask-ngrok) (2.23.0)\n",
            "Requirement already satisfied: Flask>=0.8 in /usr/local/lib/python3.7/dist-packages (from flask-ngrok) (1.1.2)\n",
            "Requirement already satisfied: chardet<4,>=3.0.2 in /usr/local/lib/python3.7/dist-packages (from requests->flask-ngrok) (3.0.4)\n",
            "Requirement already satisfied: urllib3!=1.25.0,!=1.25.1,<1.26,>=1.21.1 in /usr/local/lib/python3.7/dist-packages (from requests->flask-ngrok) (1.24.3)\n",
            "Requirement already satisfied: idna<3,>=2.5 in /usr/local/lib/python3.7/dist-packages (from requests->flask-ngrok) (2.10)\n",
            "Requirement already satisfied: certifi>=2017.4.17 in /usr/local/lib/python3.7/dist-packages (from requests->flask-ngrok) (2020.12.5)\n",
            "Requirement already satisfied: Jinja2>=2.10.1 in /usr/local/lib/python3.7/dist-packages (from Flask>=0.8->flask-ngrok) (2.11.3)\n",
            "Requirement already satisfied: itsdangerous>=0.24 in /usr/local/lib/python3.7/dist-packages (from Flask>=0.8->flask-ngrok) (1.1.0)\n",
            "Requirement already satisfied: click>=5.1 in /usr/local/lib/python3.7/dist-packages (from Flask>=0.8->flask-ngrok) (7.1.2)\n",
            "Requirement already satisfied: Werkzeug>=0.15 in /usr/local/lib/python3.7/dist-packages (from Flask>=0.8->flask-ngrok) (1.0.1)\n",
            "Requirement already satisfied: MarkupSafe>=0.23 in /usr/local/lib/python3.7/dist-packages (from Jinja2>=2.10.1->Flask>=0.8->flask-ngrok) (1.1.1)\n",
            "Installing collected packages: flask-ngrok\n",
            "Successfully installed flask-ngrok-0.0.25\n",
            "Collecting cache-magic\n",
            "  Downloading https://files.pythonhosted.org/packages/03/94/4cbb25895b80704027453fca297825c0b5924b4ba7533329e0b32a4905a2/cache-magic-1.0.4.tar.gz\n",
            "Requirement already satisfied: astunparse in /usr/local/lib/python3.7/dist-packages (from cache-magic) (1.6.3)\n",
            "Requirement already satisfied: IPython in /usr/local/lib/python3.7/dist-packages (from cache-magic) (5.5.0)\n",
            "Requirement already satisfied: tabulate in /usr/local/lib/python3.7/dist-packages (from cache-magic) (0.8.9)\n",
            "Requirement already satisfied: wheel<1.0,>=0.23.0 in /usr/local/lib/python3.7/dist-packages (from astunparse->cache-magic) (0.36.2)\n",
            "Requirement already satisfied: six<2.0,>=1.6.1 in /usr/local/lib/python3.7/dist-packages (from astunparse->cache-magic) (1.15.0)\n",
            "Requirement already satisfied: pygments in /usr/local/lib/python3.7/dist-packages (from IPython->cache-magic) (2.6.1)\n",
            "Requirement already satisfied: prompt-toolkit<2.0.0,>=1.0.4 in /usr/local/lib/python3.7/dist-packages (from IPython->cache-magic) (1.0.18)\n",
            "Requirement already satisfied: pickleshare in /usr/local/lib/python3.7/dist-packages (from IPython->cache-magic) (0.7.5)\n",
            "Requirement already satisfied: simplegeneric>0.8 in /usr/local/lib/python3.7/dist-packages (from IPython->cache-magic) (0.8.1)\n",
            "Requirement already satisfied: traitlets>=4.2 in /usr/local/lib/python3.7/dist-packages (from IPython->cache-magic) (5.0.5)\n",
            "Requirement already satisfied: setuptools>=18.5 in /usr/local/lib/python3.7/dist-packages (from IPython->cache-magic) (56.0.0)\n",
            "Requirement already satisfied: pexpect; sys_platform != \"win32\" in /usr/local/lib/python3.7/dist-packages (from IPython->cache-magic) (4.8.0)\n",
            "Requirement already satisfied: decorator in /usr/local/lib/python3.7/dist-packages (from IPython->cache-magic) (4.4.2)\n",
            "Requirement already satisfied: wcwidth in /usr/local/lib/python3.7/dist-packages (from prompt-toolkit<2.0.0,>=1.0.4->IPython->cache-magic) (0.2.5)\n",
            "Requirement already satisfied: ipython-genutils in /usr/local/lib/python3.7/dist-packages (from traitlets>=4.2->IPython->cache-magic) (0.2.0)\n",
            "Requirement already satisfied: ptyprocess>=0.5 in /usr/local/lib/python3.7/dist-packages (from pexpect; sys_platform != \"win32\"->IPython->cache-magic) (0.7.0)\n",
            "Building wheels for collected packages: cache-magic\n",
            "  Building wheel for cache-magic (setup.py) ... \u001b[?25l\u001b[?25hdone\n",
            "  Created wheel for cache-magic: filename=cache_magic-1.0.4-cp37-none-any.whl size=6698 sha256=42826e0f49915b8eb6e898b1cf55d979c59470fdf56eadc8887ec72819658b40\n",
            "  Stored in directory: /root/.cache/pip/wheels/84/3a/44/00b6aea43fe9fcd0c86bbcf33b7e45d167a6b6a1803983325e\n",
            "Successfully built cache-magic\n",
            "Installing collected packages: cache-magic\n",
            "Successfully installed cache-magic-1.0.4\n",
            "Collecting osmnx\n",
            "\u001b[?25l  Downloading https://files.pythonhosted.org/packages/22/2b/70faf25418e0305e1fd4165342d62e7e88eef9301fd51681b1c2a1f218dc/osmnx-1.1.0-py2.py3-none-any.whl (91kB)\n",
            "\u001b[K     |████████████████████████████████| 92kB 5.6MB/s \n",
            "\u001b[?25hCollecting Rtree>=0.9\n",
            "\u001b[?25l  Downloading https://files.pythonhosted.org/packages/51/05/5a67111cee91d2165a2bcb855f442186e3d76ddef834596cc84d4875c401/Rtree-0.9.7-cp37-cp37m-manylinux2010_x86_64.whl (994kB)\n",
            "\u001b[K     |████████████████████████████████| 1.0MB 19.4MB/s \n",
            "\u001b[?25hCollecting pyproj>=2.6\n",
            "\u001b[?25l  Downloading https://files.pythonhosted.org/packages/b1/72/d52e9ca81caef056062d71991b0e9b1d16af042245627c5d0e4916a36c4f/pyproj-3.0.1-cp37-cp37m-manylinux2010_x86_64.whl (6.5MB)\n",
            "\u001b[K     |████████████████████████████████| 6.5MB 44.7MB/s \n",
            "\u001b[?25hCollecting requests>=2.25\n",
            "\u001b[?25l  Downloading https://files.pythonhosted.org/packages/29/c1/24814557f1d22c56d50280771a17307e6bf87b70727d975fd6b2ce6b014a/requests-2.25.1-py2.py3-none-any.whl (61kB)\n",
            "\u001b[K     |████████████████████████████████| 61kB 5.7MB/s \n",
            "\u001b[?25hRequirement already satisfied: numpy>=1.19 in /usr/local/lib/python3.7/dist-packages (from osmnx) (1.19.5)\n",
            "Requirement already satisfied: Shapely>=1.7 in /usr/local/lib/python3.7/dist-packages (from osmnx) (1.7.1)\n",
            "Collecting matplotlib>=3.3\n",
            "\u001b[?25l  Downloading https://files.pythonhosted.org/packages/ce/63/74c0b6184b6b169b121bb72458818ee60a7d7c436d7b1907bd5874188c55/matplotlib-3.4.1-cp37-cp37m-manylinux1_x86_64.whl (10.3MB)\n",
            "\u001b[K     |████████████████████████████████| 10.3MB 46.2MB/s \n",
            "\u001b[?25hRequirement already satisfied: pandas>=1.1 in /usr/local/lib/python3.7/dist-packages (from osmnx) (1.1.5)\n",
            "Requirement already satisfied: networkx>=2.5 in /usr/local/lib/python3.7/dist-packages (from osmnx) (2.5.1)\n",
            "Collecting geopandas>=0.9\n",
            "\u001b[?25l  Downloading https://files.pythonhosted.org/packages/d7/bf/e9cefb69d39155d122b6ddca53893b61535fa6ffdad70bf5ef708977f53f/geopandas-0.9.0-py2.py3-none-any.whl (994kB)\n",
            "\u001b[K     |████████████████████████████████| 1.0MB 37.8MB/s \n",
            "\u001b[?25hRequirement already satisfied: certifi in /usr/local/lib/python3.7/dist-packages (from pyproj>=2.6->osmnx) (2020.12.5)\n",
            "Requirement already satisfied: idna<3,>=2.5 in /usr/local/lib/python3.7/dist-packages (from requests>=2.25->osmnx) (2.10)\n",
            "Requirement already satisfied: chardet<5,>=3.0.2 in /usr/local/lib/python3.7/dist-packages (from requests>=2.25->osmnx) (3.0.4)\n",
            "Requirement already satisfied: urllib3<1.27,>=1.21.1 in /usr/local/lib/python3.7/dist-packages (from requests>=2.25->osmnx) (1.24.3)\n",
            "Requirement already satisfied: pillow>=6.2.0 in /usr/local/lib/python3.7/dist-packages (from matplotlib>=3.3->osmnx) (7.1.2)\n",
            "Requirement already satisfied: cycler>=0.10 in /usr/local/lib/python3.7/dist-packages (from matplotlib>=3.3->osmnx) (0.10.0)\n",
            "Requirement already satisfied: kiwisolver>=1.0.1 in /usr/local/lib/python3.7/dist-packages (from matplotlib>=3.3->osmnx) (1.3.1)\n",
            "Requirement already satisfied: python-dateutil>=2.7 in /usr/local/lib/python3.7/dist-packages (from matplotlib>=3.3->osmnx) (2.8.1)\n",
            "Requirement already satisfied: pyparsing>=2.2.1 in /usr/local/lib/python3.7/dist-packages (from matplotlib>=3.3->osmnx) (2.4.7)\n",
            "Requirement already satisfied: pytz>=2017.2 in /usr/local/lib/python3.7/dist-packages (from pandas>=1.1->osmnx) (2018.9)\n",
            "Requirement already satisfied: decorator<5,>=4.3 in /usr/local/lib/python3.7/dist-packages (from networkx>=2.5->osmnx) (4.4.2)\n",
            "Collecting fiona>=1.8\n",
            "\u001b[?25l  Downloading https://files.pythonhosted.org/packages/ea/2a/404b22883298a3efe9c6ef8d67acbf2c38443fa366ee9cd4cd34e17626ea/Fiona-1.8.19-cp37-cp37m-manylinux1_x86_64.whl (15.3MB)\n",
            "\u001b[K     |████████████████████████████████| 15.3MB 268kB/s \n",
            "\u001b[?25hRequirement already satisfied: six in /usr/local/lib/python3.7/dist-packages (from cycler>=0.10->matplotlib>=3.3->osmnx) (1.15.0)\n",
            "Requirement already satisfied: attrs>=17 in /usr/local/lib/python3.7/dist-packages (from fiona>=1.8->geopandas>=0.9->osmnx) (20.3.0)\n",
            "Collecting click-plugins>=1.0\n",
            "  Downloading https://files.pythonhosted.org/packages/e9/da/824b92d9942f4e472702488857914bdd50f73021efea15b4cad9aca8ecef/click_plugins-1.1.1-py2.py3-none-any.whl\n",
            "Collecting munch\n",
            "  Downloading https://files.pythonhosted.org/packages/cc/ab/85d8da5c9a45e072301beb37ad7f833cd344e04c817d97e0cc75681d248f/munch-2.5.0-py2.py3-none-any.whl\n",
            "Collecting cligj>=0.5\n",
            "  Downloading https://files.pythonhosted.org/packages/42/1e/947eadf10d6804bf276eb8a038bd5307996dceaaa41cfd21b7a15ec62f5d/cligj-0.7.1-py3-none-any.whl\n",
            "Requirement already satisfied: click<8,>=4.0 in /usr/local/lib/python3.7/dist-packages (from fiona>=1.8->geopandas>=0.9->osmnx) (7.1.2)\n",
            "\u001b[31mERROR: google-colab 1.0.0 has requirement requests~=2.23.0, but you'll have requests 2.25.1 which is incompatible.\u001b[0m\n",
            "\u001b[31mERROR: datascience 0.10.6 has requirement folium==0.2.1, but you'll have folium 0.8.3 which is incompatible.\u001b[0m\n",
            "\u001b[31mERROR: albumentations 0.1.12 has requirement imgaug<0.2.7,>=0.2.5, but you'll have imgaug 0.2.9 which is incompatible.\u001b[0m\n",
            "Installing collected packages: Rtree, pyproj, requests, matplotlib, click-plugins, munch, cligj, fiona, geopandas, osmnx\n",
            "  Found existing installation: requests 2.23.0\n",
            "    Uninstalling requests-2.23.0:\n",
            "      Successfully uninstalled requests-2.23.0\n",
            "  Found existing installation: matplotlib 3.2.2\n",
            "    Uninstalling matplotlib-3.2.2:\n",
            "      Successfully uninstalled matplotlib-3.2.2\n",
            "Successfully installed Rtree-0.9.7 click-plugins-1.1.1 cligj-0.7.1 fiona-1.8.19 geopandas-0.9.0 matplotlib-3.4.1 munch-2.5.0 osmnx-1.1.0 pyproj-3.0.1 requests-2.25.1\n"
          ],
          "name": "stdout"
        },
        {
          "output_type": "display_data",
          "data": {
            "application/vnd.colab-display-data+json": {
              "pip_warning": {
                "packages": [
                  "matplotlib",
                  "mpl_toolkits"
                ]
              }
            }
          },
          "metadata": {
            "tags": []
          }
        },
        {
          "output_type": "stream",
          "text": [
            "Collecting matplotlib==3.1.3\n",
            "\u001b[?25l  Downloading https://files.pythonhosted.org/packages/4c/9b/35ab3469fd1509f7636a344940569ebfd33239673fd2318e80b4700a257c/matplotlib-3.1.3-cp37-cp37m-manylinux1_x86_64.whl (13.1MB)\n",
            "\u001b[K     |████████████████████████████████| 13.1MB 12.2MB/s \n",
            "\u001b[?25hRequirement already satisfied: kiwisolver>=1.0.1 in /usr/local/lib/python3.7/dist-packages (from matplotlib==3.1.3) (1.3.1)\n",
            "Requirement already satisfied: pyparsing!=2.0.4,!=2.1.2,!=2.1.6,>=2.0.1 in /usr/local/lib/python3.7/dist-packages (from matplotlib==3.1.3) (2.4.7)\n",
            "Requirement already satisfied: python-dateutil>=2.1 in /usr/local/lib/python3.7/dist-packages (from matplotlib==3.1.3) (2.8.1)\n",
            "Requirement already satisfied: cycler>=0.10 in /usr/local/lib/python3.7/dist-packages (from matplotlib==3.1.3) (0.10.0)\n",
            "Requirement already satisfied: numpy>=1.11 in /usr/local/lib/python3.7/dist-packages (from matplotlib==3.1.3) (1.19.5)\n",
            "Requirement already satisfied: six>=1.5 in /usr/local/lib/python3.7/dist-packages (from python-dateutil>=2.1->matplotlib==3.1.3) (1.15.0)\n",
            "\u001b[31mERROR: osmnx 1.1.0 has requirement matplotlib>=3.3, but you'll have matplotlib 3.1.3 which is incompatible.\u001b[0m\n",
            "\u001b[31mERROR: albumentations 0.1.12 has requirement imgaug<0.2.7,>=0.2.5, but you'll have imgaug 0.2.9 which is incompatible.\u001b[0m\n",
            "Installing collected packages: matplotlib\n",
            "  Found existing installation: matplotlib 3.4.1\n",
            "    Uninstalling matplotlib-3.4.1:\n",
            "      Successfully uninstalled matplotlib-3.4.1\n",
            "Successfully installed matplotlib-3.1.3\n"
          ],
          "name": "stdout"
        },
        {
          "output_type": "display_data",
          "data": {
            "application/vnd.colab-display-data+json": {
              "pip_warning": {
                "packages": [
                  "matplotlib",
                  "mpl_toolkits"
                ]
              }
            }
          },
          "metadata": {
            "tags": []
          }
        }
      ]
    },
    {
      "cell_type": "code",
      "metadata": {
        "id": "KSqlH-uc9jul"
      },
      "source": [
        "import folium\n",
        "from folium import plugins\n",
        "import osmnx as ox\n",
        "from flask_ngrok import run_with_ngrok\n",
        "from flask import Flask, request, render_template\n",
        "from branca.element import MacroElement, Figure\n",
        "import cache_magic\n",
        "from jinja2 import Template, Environment, BaseLoader\n",
        "import geopandas as gpd\n",
        "import pandas as pd\n",
        "import networkx as nx\n",
        "import numpy as np\n",
        "from datetime import datetime\n",
        "from shapely.geometry import *\n",
        "from sklearn import model_selection\n",
        "from sklearn.tree import DecisionTreeRegressor"
      ],
      "execution_count": null,
      "outputs": []
    },
    {
      "cell_type": "markdown",
      "metadata": {
        "id": "zGGV7acw4jUo"
      },
      "source": [
        "# Unpickle"
      ]
    },
    {
      "cell_type": "code",
      "metadata": {
        "colab": {
          "base_uri": "https://localhost:8080/"
        },
        "id": "zPPMn2dS8RvE",
        "outputId": "590b61ba-81f5-45e9-bb13-35a4ea77fc7f"
      },
      "source": [
        "from google.colab import drive\n",
        "drive.mount('/content/drive')\n",
        "%cd '/content/drive/My Drive/pemod'\n",
        "\n",
        "!ln -s '/content/drive/My Drive/pemod/.cache' /content/.cache"
      ],
      "execution_count": null,
      "outputs": [
        {
          "output_type": "stream",
          "text": [
            "Mounted at /content/drive\n",
            "/content/drive/My Drive/pemod\n"
          ],
          "name": "stdout"
        }
      ]
    },
    {
      "cell_type": "code",
      "metadata": {
        "colab": {
          "base_uri": "https://localhost:8080/"
        },
        "id": "2QN0gZUU8Tic",
        "outputId": "1fefbd32-f98a-4c29-f994-d27fbaa69c52"
      },
      "source": [
        "%cache G\n",
        "%cache betweenness\n",
        "%cache buildings_weight\n",
        "%cache -v 35 tseries\n",
        "#%cache -v 1 model_rf_a\n",
        "#%cache -v 1 model_rf_b"
      ],
      "execution_count": null,
      "outputs": [
        {
          "output_type": "stream",
          "text": [
            "Loading cached value for variable 'G'. Time since caching: 41 days, 7:19:44.997965\n",
            "Loading cached value for variable 'betweenness'. Time since caching: 33 days, 23:41:30.142285\n",
            "Loading cached value for variable 'buildings_weight'. Time since caching: 19 days, 1:18:39.860038\n",
            "Loading cached value for variable 'tseries'. Time since caching: 7 days, 19:54:12.803718\n"
          ],
          "name": "stdout"
        }
      ]
    },
    {
      "cell_type": "code",
      "metadata": {
        "id": "YwQDYGqE9c8Z"
      },
      "source": [
        "length_dict = {}\n",
        "for u,v,data in G.edges(data=True):\n",
        "  length_dict[(u,v)] = data.get('length')"
      ],
      "execution_count": null,
      "outputs": []
    },
    {
      "cell_type": "code",
      "metadata": {
        "id": "i0ks3GiL8sSd"
      },
      "source": [
        "bet_max = max(betweenness.values())\n",
        "buil_max = max(buildings_weight.values())\n",
        "l_max = max(length_dict.values())"
      ],
      "execution_count": null,
      "outputs": []
    },
    {
      "cell_type": "markdown",
      "metadata": {
        "id": "9jJ0K8165EdX"
      },
      "source": [
        "# Forecasting"
      ]
    },
    {
      "cell_type": "code",
      "metadata": {
        "id": "fwE5rXUN5iRx"
      },
      "source": [
        "tseries = np.array(tseries)\n",
        "train = pd.DataFrame({'Date': tseries[:, 0], 'a': tseries[:, 1], 'b': tseries[:, 2]})"
      ],
      "execution_count": null,
      "outputs": []
    },
    {
      "cell_type": "code",
      "metadata": {
        "id": "ncR_9tnh5wTL"
      },
      "source": [
        "train['Date'] = pd.to_datetime(train['Date'])\n",
        "train['hour'] = pd.DatetimeIndex(train['Date']).hour\n",
        "train['minute'] = pd.DatetimeIndex(train['Date']).minute\n",
        "train['second'] = pd.DatetimeIndex(train['Date']).second\n",
        "train['weekday'] = pd.DatetimeIndex(train['Date']).weekday\n",
        "train = pd.get_dummies(train, columns=['weekday'], drop_first=True, prefix='wday')"
      ],
      "execution_count": null,
      "outputs": []
    },
    {
      "cell_type": "code",
      "metadata": {
        "id": "n-mVkD3rnTIo"
      },
      "source": [
        "target_column_a = ['a'] \n",
        "target_column_b = ['b']\n",
        "predictors = ['hour',  'minute',  'second',  'wday_1',  'wday_2', 'wday_3', 'wday_4', 'wday_5', 'wday_6']"
      ],
      "execution_count": null,
      "outputs": []
    },
    {
      "cell_type": "code",
      "metadata": {
        "id": "NMlF22qc641_"
      },
      "source": [
        "x_train = train[predictors].values\n",
        "y_train_a = train[target_column_a].values.astype(float)\n",
        "y_train_b = train[target_column_b].values.astype(float)"
      ],
      "execution_count": null,
      "outputs": []
    },
    {
      "cell_type": "code",
      "metadata": {
        "id": "A_T-qym-687O",
        "colab": {
          "base_uri": "https://localhost:8080/"
        },
        "outputId": "b4ae6823-3cf1-4837-c6fb-9982e7de957b"
      },
      "source": [
        "dtree1 = DecisionTreeRegressor(max_depth=7)\n",
        "dtree2 = DecisionTreeRegressor(max_depth=7)\n",
        "dtree1.fit(x_train, y_train_a)\n",
        "dtree2.fit(x_train, y_train_b)"
      ],
      "execution_count": null,
      "outputs": [
        {
          "output_type": "execute_result",
          "data": {
            "text/plain": [
              "DecisionTreeRegressor(ccp_alpha=0.0, criterion='mse', max_depth=7,\n",
              "                      max_features=None, max_leaf_nodes=None,\n",
              "                      min_impurity_decrease=0.0, min_impurity_split=None,\n",
              "                      min_samples_leaf=1, min_samples_split=2,\n",
              "                      min_weight_fraction_leaf=0.0, presort='deprecated',\n",
              "                      random_state=None, splitter='best')"
            ]
          },
          "metadata": {
            "tags": []
          },
          "execution_count": 11
        }
      ]
    },
    {
      "cell_type": "code",
      "metadata": {
        "id": "HYWPVFiL9iTe"
      },
      "source": [
        "def bobot_G(func):\n",
        "  def inner(G):\n",
        "    H = G\n",
        "    a, b = func()\n",
        "\n",
        "    for u,v,data in H.edges(data=True):\n",
        "      try:\n",
        "        data['bobot'] = (a*(betweenness[(u,v)]/bet_max)+b*(buildings_weight[(u,v)]/buil_max))/(data['length']/l_max)\n",
        "      except:\n",
        "        data['bobot'] = (a*(betweenness[(u,v)]/bet_max))/(data['length']/l_max)\n",
        "\n",
        "    return H\n",
        "\n",
        "  return inner"
      ],
      "execution_count": null,
      "outputs": []
    },
    {
      "cell_type": "code",
      "metadata": {
        "id": "7EWcLq7I8BBf"
      },
      "source": [
        "@bobot_G\n",
        "def prediction():\n",
        "  dt = datetime.today()\n",
        "  h = dt.hour\n",
        "  m = dt.minute\n",
        "  s = dt.second\n",
        "  w = dt.weekday()\n",
        "  wday_1, wday_2, wday_3, wday_4, wday_5, wday_6 = 0,0,0,0,0,0\n",
        "\n",
        "  if w==1:\n",
        "    wday_1 = 1\n",
        "  elif w==2:\n",
        "    wday_2 = 1\n",
        "  elif w==3:\n",
        "    wday_3 = 1\n",
        "  elif w==4:\n",
        "    wday_4 = 1\n",
        "  elif w==5:\n",
        "    wday_5 = 1\n",
        "  elif w==6:\n",
        "    wday_6 = 1\n",
        "\n",
        "  features = np.array([h,  m,  s, wday_1,  wday_2, wday_3, wday_4, wday_5, wday_6]).reshape(1,-1)\n",
        "  pred_a = float(dtree1.predict(features))\n",
        "  pred_b = float(dtree2.predict(features))\n",
        "\n",
        "  return pred_a, pred_b"
      ],
      "execution_count": null,
      "outputs": []
    },
    {
      "cell_type": "markdown",
      "metadata": {
        "id": "y0Vg7ZjF4yZD"
      },
      "source": [
        "# Flask Setup"
      ]
    },
    {
      "cell_type": "code",
      "metadata": {
        "id": "IV1yskH_8YV_"
      },
      "source": [
        "north, east, south, west = -6.8686, 107.636, -6.9181, 107.5862"
      ],
      "execution_count": null,
      "outputs": []
    },
    {
      "cell_type": "code",
      "metadata": {
        "id": "4jEZu6fI8ZRW"
      },
      "source": [
        "coordinates = [[north,west],\n",
        "               [north,east],\n",
        "               [south,east],\n",
        "               [south,west],\n",
        "               [north,west]]"
      ],
      "execution_count": null,
      "outputs": []
    },
    {
      "cell_type": "code",
      "metadata": {
        "id": "ssqqjQju9NHc"
      },
      "source": [
        "bounding_PolyLine = folium.PolyLine(locations=coordinates,weight=5)\n",
        "tooltip = \"Tekan!\"\n",
        "weights = [i for i in range(1,6)]\n",
        "distances = [i for i in range(1000,5001,1000)]"
      ],
      "execution_count": null,
      "outputs": []
    },
    {
      "cell_type": "code",
      "metadata": {
        "id": "G1DaivbbgkoY"
      },
      "source": [
        "layout = Environment(loader=BaseLoader()).from_string(\"\"\"\n",
        "<!doctype html>\n",
        "<html lang=\"en\">\n",
        "  <head>\n",
        "    <!-- Required meta tags -->\n",
        "    <meta charset=\"utf-8\">\n",
        "    <meta name=\"viewport\" content=\"width=device-width, height=device-height, initial-scale=1, shrink-to-fit=no\">\n",
        "\n",
        "    <!-- Bootstrap CSS -->\n",
        "    <link href=\"//maxcdn.bootstrapcdn.com/bootstrap/3.3.0/css/bootstrap.min.css\" rel=\"stylesheet\" id=\"bootstrap-css\">\n",
        "    <script type=\"text/javascript\" src=\"//ajax.googleapis.com/ajax/libs/jquery/1.9.1/jquery.min.js\"></script>\n",
        "    <script type=\"text/javascript\" src=\"//maxcdn.bootstrapcdn.com/bootstrap/3.3.0/js/bootstrap.min.js\"></script>\n",
        "    <script type=\"text/javascript\" src=\"//code.jquery.com/jquery-1.11.1.min.js\"></script>\n",
        "\n",
        "    <style type=\"text/css\">\n",
        "    html, body {\n",
        "      height : 100vh;\n",
        "    }\n",
        "    </style>\n",
        "\n",
        "    <title>Pemodelan Matematika</title>\n",
        "  </head>\n",
        "\n",
        "  <body>\n",
        "    <nav class=\"navbar navbar-default navbar-fixed-top\">\n",
        "      <div class=\"container-fluid\">\n",
        "        <!-- Brand and toggle get grouped for better mobile display -->\n",
        "        <div class=\"navbar-header\">\n",
        "          <button type=\"button\" class=\"navbar-toggle collapsed\" data-toggle=\"collapse\" data-target=\"#bs-example-navbar-collapse-1\" aria-expanded=\"false\">\n",
        "            <span class=\"sr-only\">Toggle navigation</span>\n",
        "            <span class=\"icon-bar\"></span>\n",
        "            <span class=\"icon-bar\"></span>\n",
        "            <span class=\"icon-bar\"></span>\n",
        "          </button>\n",
        "          <a class=\"navbar-brand\" href=\"/\">Pemod</p></a>\n",
        "        </div>\n",
        "\n",
        "        <!-- Collect the nav links, forms, and other content for toggling -->\n",
        "        <div class=\"collapse navbar-collapse\" id=\"bs-example-navbar-collapse-1\">\n",
        "          <ul class=\"nav navbar-nav\">\n",
        "            <li><a href=\"/home\">Home<span class=\"sr-only\">(current)</span></a></li>\n",
        "            <li><a href=\"/isoweights\">Isoweights</a></li>\n",
        "            <li><a href=\"/isodistances\">Isodistances</a></li>\n",
        "          </ul>\n",
        "        </div><!-- /.navbar-collapse -->\n",
        "      </div><!-- /.container-fluid -->\n",
        "    </nav>\n",
        "    \n",
        "    {% block body %}{% endblock %}\n",
        "  </body>\n",
        "</html>\n",
        "\"\"\")"
      ],
      "execution_count": null,
      "outputs": []
    },
    {
      "cell_type": "code",
      "metadata": {
        "id": "JEnuXVTuKM_t"
      },
      "source": [
        "def html_template(m):\n",
        "  folium.TileLayer('Stamen Terrain').add_to(m)\n",
        "  folium.TileLayer('Stamen Toner').add_to(m)\n",
        "  folium.TileLayer('Stamen Water Color').add_to(m)\n",
        "  folium.TileLayer('cartodbpositron').add_to(m)\n",
        "  folium.TileLayer('cartodbdark_matter').add_to(m)\n",
        "  folium.LayerControl().add_to(m)\n",
        "\n",
        "  m.add_child(bounding_PolyLine)\n",
        "\n",
        "  fig = Figure(height=\"100%\")\n",
        "\n",
        "  fig.add_child(m)\n",
        "  \n",
        "  map_content = Environment(loader=BaseLoader()).from_string(m._repr_html_())\n",
        "\n",
        "  index = Environment(loader=BaseLoader()).from_string(\"\"\"\n",
        "  {% extends layout %}\n",
        "  {% block body %}\n",
        "    {% include map_content %}\n",
        "  {% endblock %}\n",
        "  \"\"\")\n",
        "\n",
        "  return index.render(layout=layout,map_content=map_content)"
      ],
      "execution_count": null,
      "outputs": []
    },
    {
      "cell_type": "code",
      "metadata": {
        "id": "1SV3axJm_JTO"
      },
      "source": [
        "def get_isoweights(G,y,x):\n",
        "  H = prediction(G)\n",
        "  center_node = ox.distance.nearest_nodes(H, x, y)\n",
        "  \n",
        "  isoweights_polys = []\n",
        "  for weight in weights:\n",
        "    subgraph = nx.ego_graph(H, center_node, radius=weight, distance='bobot')\n",
        "    node_points = [Point((data['x'], data['y'])) for node, data in subgraph.nodes(data=True)]\n",
        "    bounding_poly = gpd.GeoSeries(node_points).unary_union.convex_hull\n",
        "    isoweights_polys.append(bounding_poly)\n",
        "\n",
        "  return isoweights_polys"
      ],
      "execution_count": null,
      "outputs": []
    },
    {
      "cell_type": "code",
      "metadata": {
        "id": "BbiB1iV2ayen"
      },
      "source": [
        "def get_isodistances(G,y,x):\n",
        "  H = prediction(G)\n",
        "  center_node = ox.distance.nearest_nodes(H, x, y)\n",
        "  \n",
        "  isodistances_polys = []\n",
        "  for distance in sorted(distances):\n",
        "    subgraph = nx.ego_graph(H, center_node, radius=distance, distance='length')\n",
        "    node_points = [Point((data['x'], data['y'])) for node, data in subgraph.nodes(data=True)]\n",
        "    bounding_poly = gpd.GeoSeries(node_points).unary_union.convex_hull\n",
        "    isodistances_polys.append(bounding_poly)\n",
        "\n",
        "  return isodistances_polys"
      ],
      "execution_count": null,
      "outputs": []
    },
    {
      "cell_type": "code",
      "metadata": {
        "id": "oNx5gtc4B25w"
      },
      "source": [
        "class folium_route(object):\n",
        "  def __init__(self,G,start,end):\n",
        "    self.H = prediction(G)\n",
        "    self.start = start\n",
        "    self.end = end\n",
        "\n",
        "  def shortest_route(self):\n",
        "    start_ID = ox.distance.nearest_nodes(self.H, self.start[1], self.start[0])\n",
        "    end_ID = ox.distance.nearest_nodes(self.H, self.end[1], self.end[0])\n",
        "    least_weight = ox.shortest_path(self.H, start_ID, end_ID, weight = 'bobot')\n",
        "    shortest_distance = ox.shortest_path(self.H, start_ID, end_ID, weight = 'length')\n",
        "    \n",
        "    least_weight_length = nx.path_weight(self.H, least_weight, weight=\"length\")/1000\n",
        "    shortest_distance_length = nx.path_weight(self.H, shortest_distance, weight=\"length\")/1000\n",
        "    \n",
        "    return least_weight, shortest_distance, least_weight_length, shortest_distance_length\n",
        "\n",
        "  def feature_route(self,m,fg1,fg2):\n",
        "    path1, path2, path_length1, path_length2 = self.shortest_route()\n",
        "    ox.folium.plot_route_folium(G, path1, route_map=fg1, zoom = 14,tiles='OpenStreetMap',tooltip='<b>Jarak Tempuh : {} km</b>'.format(round(path_length1,2))).add_to(m)\n",
        "    ox.folium.plot_route_folium(G, path2, route_map=fg2, zoom = 14,tiles='OpenStreetMap',tooltip='<b>Jarak Tempuh : {} km</b>'.format(round(path_length2,2)),color=\"green\").add_to(m)"
      ],
      "execution_count": null,
      "outputs": []
    },
    {
      "cell_type": "code",
      "metadata": {
        "id": "YR8945IMRoCt"
      },
      "source": [
        "class LatLngPopup_init(MacroElement):\n",
        "    _template = Template(u\"\"\"\n",
        "            {% macro script(this, kwargs) %}\n",
        "                var {{this.get_name()}} = L.popup();\n",
        "                function latLngPop(e) {\n",
        "                    {{this.get_name()}}\n",
        "                        .setLatLng(e.latlng)\n",
        "                        .setContent( \"<a style=text-decoration:none;color:#28b5b5 onclick=window.open('/{{this.route}}?{{this.params_lat}}=\"+e.latlng.lat.toFixed(4)+\"&{{this.params_lon}}=\"+ e.latlng.lng.toFixed(4)+\"')> <p>Klik Disini</p> </a>\")\n",
        "                        .openOn({{this._parent.get_name()}})\n",
        "                    }\n",
        "                {{this._parent.get_name()}}.on('click', latLngPop);\n",
        "\n",
        "            {% endmacro %}\n",
        "            \"\"\")  # noqa\n",
        "\n",
        "    def __init__(self,route,params_lat,params_lon):\n",
        "        super(LatLngPopup_init, self).__init__()\n",
        "        self._name = 'LatLngPopup_init'\n",
        "        self.route = route\n",
        "        self.params_lat = params_lat\n",
        "        self.params_lon = params_lon"
      ],
      "execution_count": null,
      "outputs": []
    },
    {
      "cell_type": "code",
      "metadata": {
        "id": "v_3KLSALTgoS"
      },
      "source": [
        "class LatLngPopup(MacroElement):\n",
        "    _template = Template(u\"\"\"\n",
        "            {% macro script(this, kwargs) %}\n",
        "                var {{this.get_name()}} = L.popup();\n",
        "                function latLngPop(e) {\n",
        "                    {{this.get_name()}}\n",
        "                        .setLatLng(e.latlng)\n",
        "                        .setContent( \"<a style=text-decoration:none;color:#28b5b5 onclick=window.open('\"+window.location.href+\"&{{this.params_lat}}=\"+e.latlng.lat.toFixed(4)+\"&{{this.params_lon}}=\"+ e.latlng.lng.toFixed(4)+\"')> <p>Klik Disini</p> </a>\")\n",
        "                        .openOn({{this._parent.get_name()}})\n",
        "                    }\n",
        "                {{this._parent.get_name()}}.on('click', latLngPop);\n",
        "\n",
        "            {% endmacro %}\n",
        "            \"\"\")  # noqa\n",
        "\n",
        "    def __init__(self,params_lat,params_lon):\n",
        "        super(LatLngPopup, self).__init__()\n",
        "        self._name = 'LatLngPopup'\n",
        "        self.params_lat = params_lat\n",
        "        self.params_lon = params_lon"
      ],
      "execution_count": null,
      "outputs": []
    },
    {
      "cell_type": "markdown",
      "metadata": {
        "id": "grRgEIna4ss0"
      },
      "source": [
        "# Flask"
      ]
    },
    {
      "cell_type": "code",
      "metadata": {
        "colab": {
          "base_uri": "https://localhost:8080/"
        },
        "id": "c_TkWZSnz7fc",
        "outputId": "299bc3f9-f8b5-42d0-bc24-86ced03d03d2"
      },
      "source": [
        "app = Flask(__name__)\n",
        "\n",
        "run_with_ngrok(app)\n",
        "\n",
        "@app.route('/')\n",
        "@app.route('/home')\n",
        "def home_page():\n",
        "  m = folium.Map(location=[-6.8906, 107.6108], zoom_start=14, top=50)\n",
        "\n",
        "  m.add_child(LatLngPopup_init('route','start_lat','start_lon'))\n",
        "\n",
        "  return html_template(m)\n",
        "\n",
        "@app.route('/route')\n",
        "def route():\n",
        "  start_lat  = float(request.args.get('start_lat', -10000))\n",
        "  start_lon  = float(request.args.get('start_lon', -10000))\n",
        "  end_lat  = float(request.args.get('end_lat', -10000))\n",
        "  end_lon  = float(request.args.get('end_lon', -10000))\n",
        "\n",
        "  m = folium.Map(location=[-6.8906, 107.6108], zoom_start=14,top=50)\n",
        "\n",
        "  if (end_lat != -10000) and (end_lon != -10000):\n",
        "    start = (start_lat,start_lon)\n",
        "    end = (end_lat,end_lon)\n",
        "\n",
        "    fg1 = folium.FeatureGroup(name='least weight')\n",
        "\n",
        "    fg2 = folium.FeatureGroup(name='shortest distance',show=False)\n",
        "\n",
        "    route = folium_route(G,start,end)\n",
        "\n",
        "    route.feature_route(m,fg1,fg2)\n",
        "\n",
        "    folium.Marker([start_lat, start_lon], popup=\"<b>Lokasi Sekarang</b>\", tooltip=tooltip).add_to(m)\n",
        "\n",
        "    folium.Marker([end_lat, end_lon], popup=\"<b>Tujuan</b>\", tooltip=tooltip).add_to(m)\n",
        "\n",
        "    m.add_child(LatLngPopup_init('route','start_lat','start_lon'))\n",
        "\n",
        "    return html_template(m)\n",
        "\n",
        "  folium.Marker([start_lat, start_lon], popup=\"<b>Lokasi Sekarang</b>\", tooltip=tooltip).add_to(m)\n",
        "\n",
        "  m.add_child(LatLngPopup('end_lat', 'end_lon'))\n",
        "  \n",
        "  return html_template(m)\n",
        "\n",
        "@app.route('/isoweights')\n",
        "def isoweights():\n",
        "  center_lat = float(request.args.get('center_lat', -10000))\n",
        "  center_lon = float(request.args.get('center_lon', -10000))\n",
        "\n",
        "  m = folium.Map(location=[-6.8906, 107.6108], zoom_start=14,top=50)\n",
        "\n",
        "  if (center_lat != -10000) and (center_lon != -10000):\n",
        "\n",
        "    folium.Marker([center_lat, center_lon], popup=\"<b>Pusat</b>\", tooltip=tooltip).add_to(m)\n",
        "\n",
        "    isoweights_polys = get_isoweights(G,center_lat, center_lon)\n",
        "\n",
        "    i = 1\n",
        "    for polygon in isoweights_polys:\n",
        "      fg = folium.FeatureGroup(name=f\"Bobot {i}\").add_to(m)\n",
        "      folium.GeoJson(polygon).add_to(fg)\n",
        "      i+=1\n",
        "\n",
        "    m.add_child(LatLngPopup_init('isoweights','center_lat', 'center_lon'))\n",
        "\n",
        "    return html_template(m)\n",
        "\n",
        "  m.add_child(LatLngPopup_init('isoweights','center_lat', 'center_lon'))\n",
        "\n",
        "  return html_template(m)\n",
        "\n",
        "@app.route('/isodistances')\n",
        "def isodistances():\n",
        "  center_lat = float(request.args.get('center_lat', -10000))\n",
        "  center_lon = float(request.args.get('center_lon', -10000))\n",
        "\n",
        "  m = folium.Map(location=[-6.8906, 107.6108], zoom_start=14,top=50)\n",
        "\n",
        "  if (center_lat != -10000) and (center_lon != -10000):\n",
        "    folium.Marker([center_lat, center_lon], popup=\"<b>Pusat</b>\", tooltip=tooltip).add_to(m)\n",
        "\n",
        "    isodistances_polys = get_isodistances(G,center_lat, center_lon)\n",
        "\n",
        "    i = 1\n",
        "    for polygon in isodistances_polys:\n",
        "      fg = folium.FeatureGroup(name=f\"Panjang {i} km\").add_to(m)\n",
        "      folium.GeoJson(polygon).add_to(fg)\n",
        "      i+=1\n",
        "\n",
        "    m.add_child(LatLngPopup_init('isodistances','center_lat', 'center_lon'))\n",
        "\n",
        "    return html_template(m)\n",
        "\n",
        "  m.add_child(LatLngPopup_init('isodistances','center_lat', 'center_lon'))\n",
        "\n",
        "  return html_template(m)\n",
        "\n",
        "app.run()"
      ],
      "execution_count": null,
      "outputs": [
        {
          "output_type": "stream",
          "text": [
            " * Serving Flask app \"__main__\" (lazy loading)\n",
            " * Environment: production\n",
            "\u001b[31m   WARNING: This is a development server. Do not use it in a production deployment.\u001b[0m\n",
            "\u001b[2m   Use a production WSGI server instead.\u001b[0m\n",
            " * Debug mode: off\n"
          ],
          "name": "stdout"
        },
        {
          "output_type": "stream",
          "text": [
            " * Running on http://127.0.0.1:5000/ (Press CTRL+C to quit)\n"
          ],
          "name": "stderr"
        },
        {
          "output_type": "stream",
          "text": [
            " * Running on http://48452bf334f0.ngrok.io\n",
            " * Traffic stats available on http://127.0.0.1:4040\n"
          ],
          "name": "stdout"
        },
        {
          "output_type": "stream",
          "text": [
            "127.0.0.1 - - [07/May/2021 06:16:39] \"\u001b[37mGET / HTTP/1.1\u001b[0m\" 200 -\n",
            "127.0.0.1 - - [07/May/2021 06:16:47] \"\u001b[33mGET /favicon.ico HTTP/1.1\u001b[0m\" 404 -\n",
            "127.0.0.1 - - [07/May/2021 06:17:01] \"\u001b[37mGET / HTTP/1.1\u001b[0m\" 200 -\n",
            "127.0.0.1 - - [07/May/2021 06:17:03] \"\u001b[33mGET /favicon.ico HTTP/1.1\u001b[0m\" 404 -\n",
            "127.0.0.1 - - [07/May/2021 06:17:13] \"\u001b[37mGET / HTTP/1.1\u001b[0m\" 200 -\n"
          ],
          "name": "stderr"
        }
      ]
    }
  ]
}